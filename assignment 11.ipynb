{
 "cells": [
  {
   "cell_type": "raw",
   "id": "e6b5bf1a",
   "metadata": {},
   "source": [
    "Q. Create an assert statement that throws an AssertionError if the variable spam is a negative integer.\n",
    "\n",
    "Ans. The assert statement is used to continue the execute if the given condition evaluates to True. If the assert condition evaluates to False, then it raises the AssertionError exception with the specified error message.\n"
   ]
  },
  {
   "cell_type": "code",
   "execution_count": 2,
   "id": "920188e4",
   "metadata": {},
   "outputs": [
    {
     "ename": "NameError",
     "evalue": "name 'eggs' is not defined",
     "output_type": "error",
     "traceback": [
      "\u001b[0;31m---------------------------------------------------------------------------\u001b[0m",
      "\u001b[0;31mNameError\u001b[0m                                 Traceback (most recent call last)",
      "Cell \u001b[0;32mIn[2], line 14\u001b[0m\n\u001b[1;32m      1\u001b[0m \u001b[38;5;66;03m# 2  Write an assert statement that triggers an AssertionError\u001b[39;00m\n\u001b[1;32m      2\u001b[0m \u001b[38;5;66;03m#     if the variables eggs and bacon contain strings that are the same as each other,\u001b[39;00m\n\u001b[1;32m      3\u001b[0m \u001b[38;5;66;03m#     even if their cases are different (that is, 'hello' and 'hello' are considered the same,\u001b[39;00m\n\u001b[0;32m   (...)\u001b[0m\n\u001b[1;32m      9\u001b[0m \u001b[38;5;66;03m# ans)    You can use the lower() method to convert both strings to lowercase before comparing them.\u001b[39;00m\n\u001b[1;32m     10\u001b[0m \u001b[38;5;66;03m#         Here's the assert statement:\u001b[39;00m\n\u001b[0;32m---> 14\u001b[0m \u001b[38;5;28;01massert\u001b[39;00m eggs\u001b[38;5;241m.\u001b[39mlower() \u001b[38;5;241m!=\u001b[39m bacon\u001b[38;5;241m.\u001b[39mlower(), \u001b[38;5;124m\"\u001b[39m\u001b[38;5;124meggs and bacon should not have the same value ignoring case\u001b[39m\u001b[38;5;124m\"\u001b[39m\n",
      "\u001b[0;31mNameError\u001b[0m: name 'eggs' is not defined"
     ]
    }
   ],
   "source": [
    "# 2  Write an assert statement that triggers an AssertionError\n",
    "#     if the variables eggs and bacon contain strings that are the same as each other,\n",
    "#     even if their cases are different (that is, 'hello' and 'hello' are considered the same,\n",
    "#   and 'goodbye' and 'GOODbye' are also considered the same).\n",
    "    \n",
    "    \n",
    "    \n",
    "    \n",
    "# ans)    You can use the lower() method to convert both strings to lowercase before comparing them.\n",
    "#         Here's the assert statement:\n",
    "\n",
    "\n",
    "\n",
    "assert eggs.lower() != bacon.lower(), \"eggs and bacon should not have the same value ignoring case\"\n",
    "\n",
    "\n",
    "\n",
    "# This assert statement will raise an AssertionError if \n",
    "# the values of eggs and bacon are the same, ignoring their cases."
   ]
  },
  {
   "cell_type": "raw",
   "id": "f8b6d03d",
   "metadata": {},
   "source": [
    "Q. Create an assert statement that throws an AssertionError every time.\n",
    "\n",
    "Ans.   assert False - this always triggers an exception"
   ]
  },
  {
   "cell_type": "code",
   "execution_count": 4,
   "id": "7df46eb2",
   "metadata": {},
   "outputs": [
    {
     "ename": "SyntaxError",
     "evalue": "invalid syntax (2680933039.py, line 1)",
     "output_type": "error",
     "traceback": [
      "\u001b[0;36m  Cell \u001b[0;32mIn[4], line 1\u001b[0;36m\u001b[0m\n\u001b[0;31m    Q. 4. What are the two lines that must be present in your software in order to call logging.debug()?\u001b[0m\n\u001b[0m       ^\u001b[0m\n\u001b[0;31mSyntaxError\u001b[0m\u001b[0;31m:\u001b[0m invalid syntax\n"
     ]
    }
   ],
   "source": [
    "Q.  What are the two lines that must be present in your software in order to call logging.debug()?\n",
    "\n",
    "\n",
    "import logging as lg\n",
    "lg.basicConfig(level=lg.DEBUG, format=' %(asctime)s - %(levelname)s - %(message)s')\n",
    "     "
   ]
  },
  {
   "cell_type": "code",
   "execution_count": 5,
   "id": "3d6d434c",
   "metadata": {},
   "outputs": [
    {
     "name": "stdout",
     "output_type": "stream",
     "text": [
      "Object `programLog.txt` not found.\n"
     ]
    }
   ],
   "source": [
    "Q. What are the two lines that your program must have in order to have logging.debug()\n",
    "   send a logging message to a file named programLog.txt?\n",
    "\n",
    "import logging as lg\n",
    "lg.basicConfig(filename='programLog.txt', level=lg.DEBUG, format=' %(asctime)s - %(levelname)s - %(message)s')\n",
    "     \n"
   ]
  },
  {
   "cell_type": "raw",
   "id": "fb089990",
   "metadata": {},
   "source": [
    "Q. What are the five levels of logging?\n",
    "\n",
    "Ans. Five level of loggins are DEBUG, INFO, WARNING, ERROR, and CRITICAL\n",
    "\n",
    "        logging.debug() - variable's state and small details\n",
    "\n",
    "        logging.info() - general events, confirm a program is working\n",
    "\n",
    "        logging.warning() - potiental problem to work on in the future\n",
    "\n",
    "        logging.error() - record an error that caused program to fail to do something\n",
    "\n",
    "        logging.critical() - fatal error that has caused"
   ]
  },
  {
   "cell_type": "code",
   "execution_count": 7,
   "id": "439f9d4c",
   "metadata": {},
   "outputs": [
    {
     "name": "stdout",
     "output_type": "stream",
     "text": [
      "Object `messages` not found.\n"
     ]
    }
   ],
   "source": [
    "Q. What line of code would you add to your software to disable all logging messages?\n",
    "\n",
    "\n",
    "import logging as lg\n",
    "lg.disable(lg.CRITICAL)\n",
    "     \n"
   ]
  },
  {
   "cell_type": "raw",
   "id": "9ddd9f37",
   "metadata": {},
   "source": [
    "Q. Why is using logging messages better than using print() to display the same message?\n",
    "\n",
    "Ans.\n",
    "\n",
    "        You can disable logging messages without removing the logging function calls.\n",
    "\n",
    "        You can selectively disable lower-level logging messages.\n",
    "\n",
    "        You can create logging messages. Logging messages provides a timestamp."
   ]
  },
  {
   "cell_type": "raw",
   "id": "3d8b0acc",
   "metadata": {},
   "source": [
    "Q. What are the differences between the Step Over, Step In, and Step Out buttons in the debugger?\n",
    "\n",
    "Ans.\n",
    "\n",
    "    The Step in button will move the debugger into a function call.\n",
    "\n",
    "    The Over button will quickly execute the function call without stepping into it.\n",
    "\n",
    "    The Out button will quickly execute the rest of the code until it steps out of the function it currently is in.\n",
    "\n",
    "\n",
    "\n",
    " \n"
   ]
  },
  {
   "cell_type": "raw",
   "id": "d56d4824",
   "metadata": {},
   "source": [
    "Q. After you click Continue, when will the debugger stop ?\n",
    "\n",
    "\n",
    "Ans. It will stops at next breakpoint, if there are no further breakpoints program will be fully executed."
   ]
  },
  {
   "cell_type": "raw",
   "id": "21844763",
   "metadata": {},
   "source": [
    "Q.What is the concept of a breakpoint?\n",
    "\n",
    "\n",
    "Ans. A breakpoint is an intentional stopping point or pause put into a program for debugging purposes.\n"
   ]
  }
 ],
 "metadata": {
  "kernelspec": {
   "display_name": "Python 3 (ipykernel)",
   "language": "python",
   "name": "python3"
  },
  "language_info": {
   "codemirror_mode": {
    "name": "ipython",
    "version": 3
   },
   "file_extension": ".py",
   "mimetype": "text/x-python",
   "name": "python",
   "nbconvert_exporter": "python",
   "pygments_lexer": "ipython3",
   "version": "3.11.7"
  }
 },
 "nbformat": 4,
 "nbformat_minor": 5
}
